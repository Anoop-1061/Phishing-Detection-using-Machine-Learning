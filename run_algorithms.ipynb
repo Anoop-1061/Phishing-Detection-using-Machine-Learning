{
  "nbformat": 4,
  "nbformat_minor": 0,
  "metadata": {
    "colab": {
      "name": "run_algorithms.ipynb",
      "provenance": [],
      "collapsed_sections": [],
      "authorship_tag": "ABX9TyP5LQkngAVxoToU6Vlw3hXK",
      "include_colab_link": true
    },
    "kernelspec": {
      "name": "python3",
      "display_name": "Python 3"
    },
    "language_info": {
      "name": "python"
    },
    "accelerator": "GPU",
    "gpuClass": "standard"
  },
  "cells": [
    {
      "cell_type": "markdown",
      "metadata": {
        "id": "view-in-github",
        "colab_type": "text"
      },
      "source": [
        "<a href=\"https://colab.research.google.com/github/Anoop-1061/Phishing-Detection-using-Machine-Learning/blob/master/run_algorithms.ipynb\" target=\"_parent\"><img src=\"https://colab.research.google.com/assets/colab-badge.svg\" alt=\"Open In Colab\"/></a>"
      ]
    },
    {
      "cell_type": "code",
      "source": [
        "from sklearn import metrics\n",
        "from sklearn.metrics import classification_report,confusion_matrix\n",
        "import matplotlib.pyplot as plt\n",
        "import seaborn\n",
        "import pandas as pd\n",
        "import numpy as np\n",
        "from sklearn.model_selection import train_test_split\n",
        "from sklearn.neural_network import MLPClassifier\n",
        "from sklearn.ensemble import RandomForestClassifier\n",
        "from sklearn import svm"
      ],
      "metadata": {
        "id": "vdb11mBaSQFQ"
      },
      "execution_count": 1,
      "outputs": []
    },
    {
      "cell_type": "code",
      "source": [
        "dataset = \"Dataset.csv\"\n",
        "class_labels = \"Target_Labels.csv\"\n",
        "test_size = 0.3"
      ],
      "metadata": {
        "id": "z2jeSPmhVxiD"
      },
      "execution_count": 2,
      "outputs": []
    },
    {
      "cell_type": "code",
      "source": [
        "X = pd.read_csv(dataset)\n",
        "Y = pd.read_csv(class_labels)\n",
        "X_train, X_test, y_train, y_test = train_test_split(X, Y, test_size= test_size, random_state=42)"
      ],
      "metadata": {
        "id": "ZI5BOGb2VvD0"
      },
      "execution_count": 3,
      "outputs": []
    },
    {
      "cell_type": "code",
      "source": [
        "model_nn = MLPClassifier(activation='logistic', alpha=1.1, random_state=42)\n",
        "model_nn.fit(X_train,y_train)\n",
        "Y_predicted = model_nn.predict(X_test)\n",
        "acc_nn = metrics.accuracy_score(y_test,Y_predicted)*100\n",
        "print (\"Neural Network accuracy = \"+str(round(acc_nn,2))+\"%\")\n",
        "\n",
        "confusion_mat = confusion_matrix(y_test,Y_predicted)\n",
        "\n",
        "print (confusion_mat)\n",
        "print (confusion_mat.shape)\n",
        "\n",
        "print (\"TP\\tFP\\tFN\\tTN\\tSensitivity\\tSpecificity\")\n",
        "for i in range(confusion_mat.shape[0]):\n",
        "# i means which class to choose to do one-vs-the-rest calculation\n",
        "# rows are actual obs whereas columns are predictions\n",
        "  TP = round(float(confusion_mat[i,i]),2)  # correctly labeled as i\n",
        "  FP_nn = round(float(confusion_mat[:,i].sum()),2) - TP  # incorrectly labeled as i\n",
        "  FN_nn = round(float(confusion_mat[i,:].sum()),2) - TP  # incorrectly labeled as non-i\n",
        "  TN = round(float(confusion_mat.sum().sum()),2) - TP - FP_nn - FN_nn\n",
        "  sensitivity_nn = round(TP / (TP + FN_nn),2)\n",
        "  # plt.figure(figsize=(15,10))\n",
        "  # plt.bar(ML_Model, sensitivity)\n",
        "  specificity = round(TN / (TN + FP_nn),2)\n",
        "  print (str(TP)+\"\\t\"+str(FP_nn)+\"\\t\"+str(FN_nn)+\"\\t\"+str(TN)+\"\\t\"+str(sensitivity_nn)+\"\\t\\t\"+str(specificity)+\"\\t\\t\")\n",
        "\n",
        "#print (\"\\t\"+str(sensitivity)+\"\\t\\t\"+str(specificity)+\"\\t\\t\")\n",
        "\n",
        "f_score = metrics.f1_score(y_test,Y_predicted)\n",
        "print(f_score)"
      ],
      "metadata": {
        "colab": {
          "base_uri": "https://localhost:8080/"
        },
        "id": "toaByYh2Voz1",
        "outputId": "8480075e-cf96-43ba-8061-83506269cc63"
      },
      "execution_count": 4,
      "outputs": [
        {
          "output_type": "stream",
          "name": "stderr",
          "text": [
            "/usr/local/lib/python3.7/dist-packages/sklearn/neural_network/_multilayer_perceptron.py:1109: DataConversionWarning: A column-vector y was passed when a 1d array was expected. Please change the shape of y to (n_samples, ), for example using ravel().\n",
            "  y = column_or_1d(y, warn=True)\n"
          ]
        },
        {
          "output_type": "stream",
          "name": "stdout",
          "text": [
            "Neural Network accuracy = 86.61%\n",
            "[[1225  230]\n",
            " [ 214 1648]]\n",
            "(2, 2)\n",
            "TP\tFP\tFN\tTN\tSensitivity\tSpecificity\n",
            "1225.0\t214.0\t230.0\t1648.0\t0.84\t\t0.89\t\t\n",
            "1648.0\t230.0\t214.0\t1225.0\t0.89\t\t0.84\t\t\n",
            "0.881283422459893\n"
          ]
        }
      ]
    },
    {
      "cell_type": "code",
      "source": [
        "model_rf = RandomForestClassifier(n_estimators=2, max_depth=5, random_state=42)\n",
        "model_rf.fit(X_train,y_train)\n",
        "Y_predicted = model_rf.predict(X_test)\n",
        "model_rf.feature_importances_\n",
        "acc_rf = metrics.accuracy_score(y_test,Y_predicted)*100\n",
        "#print(\"Random forest: Accuracy on training Data: {:.3f}\".format(acc_train_forest))\n",
        "print (\"Random Forest accuracy = \"+str(round(acc_rf,2))+\"%\")\n",
        "\n",
        "confusion_mat = confusion_matrix(y_test,Y_predicted)\n",
        "\n",
        "print (confusion_mat)\n",
        "print (confusion_mat.shape)\n",
        "\n",
        "print (\"TP\\tFP\\tFN\\tTN\\tSensitivity\\tSpecificity\")\n",
        "for i in range(confusion_mat.shape[0]):\n",
        "# i means which class to choose to do one-vs-the-rest calculation\n",
        "# rows are actual obs whereas columns are predictions\n",
        "  TP = round(float(confusion_mat[i,i]),2)  # correctly labeled as i\n",
        "  FP_rf = round(float(confusion_mat[:,i].sum()),2) - TP  # incorrectly labeled as i\n",
        "  FN_rf = round(float(confusion_mat[i,:].sum()),2) - TP  # incorrectly labeled as non-i\n",
        "  TN = round(float(confusion_mat.sum().sum()),2) - TP - FP_rf - FN_rf\n",
        "  sensitivity_rf = round(TP / (TP + FN_rf),2)\n",
        "  # plt.figure(figsize=(15,10))\n",
        "  # plt.bar(ML_Model, sensitivity)\n",
        "  specificity = round(TN / (TN + FP_rf),2)\n",
        "  print (str(TP)+\"\\t\"+str(FP_rf)+\"\\t\"+str(FN_rf)+\"\\t\"+str(TN)+\"\\t\"+str(sensitivity_rf)+\"\\t\\t\"+str(specificity)+\"\\t\\t\")\n",
        "\n",
        "#print (\"\\t\"+str(sensitivity)+\"\\t\\t\"+str(specificity)+\"\\t\\t\")\n",
        "\n",
        "f_score = metrics.f1_score(y_test,Y_predicted)\n",
        "print(f_score)"
      ],
      "metadata": {
        "colab": {
          "base_uri": "https://localhost:8080/"
        },
        "id": "_dnvRD_ZmxhM",
        "outputId": "b90ec963-924d-48f3-b577-8cc213a301df"
      },
      "execution_count": 5,
      "outputs": [
        {
          "output_type": "stream",
          "name": "stdout",
          "text": [
            "Random Forest accuracy = 86.1%\n",
            "[[1127  328]\n",
            " [ 133 1729]]\n",
            "(2, 2)\n",
            "TP\tFP\tFN\tTN\tSensitivity\tSpecificity\n",
            "1127.0\t133.0\t328.0\t1729.0\t0.77\t\t0.93\t\t\n",
            "1729.0\t328.0\t133.0\t1127.0\t0.93\t\t0.77\t\t\n",
            "0.8823679510079102\n"
          ]
        },
        {
          "output_type": "stream",
          "name": "stderr",
          "text": [
            "/usr/local/lib/python3.7/dist-packages/ipykernel_launcher.py:2: DataConversionWarning: A column-vector y was passed when a 1d array was expected. Please change the shape of y to (n_samples,), for example using ravel().\n",
            "  \n"
          ]
        }
      ]
    },
    {
      "cell_type": "code",
      "source": [
        "model_svm = svm.SVC(kernel='linear', C=1.5, gamma='scale', random_state=42)\n",
        "model_svm.fit(X_train,y_train)\n",
        "Y_predicted = model_svm.predict(X_test)\n",
        "acc_svm = metrics.accuracy_score(y_test,Y_predicted)*100\n",
        "print (\"SVM accuracy = \"+str(round(acc_svm,2))+\"%\")\n",
        "\n",
        "confusion_mat = confusion_matrix(y_test,Y_predicted)\n",
        "\n",
        "print (confusion_mat)\n",
        "print (confusion_mat.shape)\n",
        "\n",
        "print (\"TP\\tFP\\tFN\\tTN\\tSensitivity\\tSpecificity\")\n",
        "for i in range(confusion_mat.shape[0]):\n",
        "# i means which class to choose to do one-vs-the-rest calculation\n",
        "# rows are actual obs whereas columns are predictions\n",
        "  TP = round(float(confusion_mat[i,i]),2)  # correctly labeled as i\n",
        "  FP_svm = round(float(confusion_mat[:,i].sum()),2) - TP  # incorrectly labeled as i\n",
        "  FN_svm = round(float(confusion_mat[i,:].sum()),2) - TP  # incorrectly labeled as non-i\n",
        "  TN = round(float(confusion_mat.sum().sum()),2) - TP - FP_svm - FN_svm\n",
        "  sensitivity_svm = round(TP / (TP + FN_svm),2)\n",
        "  # plt.figure(figsize=(15,10))\n",
        "  # plt.bar(ML_Model, sensitivity)\n",
        "  specificity = round(TN / (TN + FP_svm),2)\n",
        "  print (str(TP)+\"\\t\"+str(FP_svm)+\"\\t\"+str(FN_svm)+\"\\t\"+str(TN)+\"\\t\"+str(sensitivity_svm)+\"\\t\\t\"+str(specificity)+\"\\t\\t\")\n",
        "\n",
        "#print (\"\\t\"+str(sensitivity)+\"\\t\\t\"+str(specificity)+\"\\t\\t\")\n",
        "\n",
        "f_score = metrics.f1_score(y_test,Y_predicted)\n",
        "print(f_score)"
      ],
      "metadata": {
        "colab": {
          "base_uri": "https://localhost:8080/"
        },
        "id": "0VwQMKpCnD7T",
        "outputId": "069ec791-e913-426d-fb88-99515b771868"
      },
      "execution_count": 6,
      "outputs": [
        {
          "output_type": "stream",
          "name": "stderr",
          "text": [
            "/usr/local/lib/python3.7/dist-packages/sklearn/utils/validation.py:993: DataConversionWarning: A column-vector y was passed when a 1d array was expected. Please change the shape of y to (n_samples, ), for example using ravel().\n",
            "  y = column_or_1d(y, warn=True)\n"
          ]
        },
        {
          "output_type": "stream",
          "name": "stdout",
          "text": [
            "SVM accuracy = 87.58%\n",
            "[[1209  246]\n",
            " [ 166 1696]]\n",
            "(2, 2)\n",
            "TP\tFP\tFN\tTN\tSensitivity\tSpecificity\n",
            "1209.0\t166.0\t246.0\t1696.0\t0.83\t\t0.91\t\t\n",
            "1696.0\t246.0\t166.0\t1209.0\t0.91\t\t0.83\t\t\n",
            "0.8916929547844374\n"
          ]
        }
      ]
    },
    {
      "cell_type": "code",
      "source": [
        "#Generating weights for Javascript file for calculations \n",
        "model_svm.coef_"
      ],
      "metadata": {
        "colab": {
          "base_uri": "https://localhost:8080/"
        },
        "id": "ADuZ-PrcN-Uz",
        "outputId": "6dc5fa5e-a8b9-4539-f8e6-4afc6dd65c2e"
      },
      "execution_count": 7,
      "outputs": [
        {
          "output_type": "execute_result",
          "data": {
            "text/plain": [
              "array([[ 3.51636530e-01, -1.11122735e-01, -7.59140945e-01,\n",
              "         1.10968487e-01,  4.07041856e-01,  1.99965402e+00,\n",
              "         4.81371767e-01, -2.40963503e-01,  1.94951414e-04,\n",
              "         3.51717573e-01,  2.70288178e+00,  7.03045457e-01,\n",
              "         5.18394086e-01,  3.70571554e-02,  1.85214881e-01,\n",
              "        -1.48087980e-01]])"
            ]
          },
          "metadata": {},
          "execution_count": 7
        }
      ]
    },
    {
      "cell_type": "code",
      "source": [
        "senty=[sensitivity_nn, sensitivity_rf, sensitivity_svm]\n",
        "acc=[acc_nn, acc_rf, acc_svm]\n",
        "fpr=[FP_nn, FP_rf, FP_svm]\n",
        "fnr=[FN_nn, FN_rf, FN_svm]\n",
        "ML_model=['Neural Network', 'Random Forest Classifier', 'Support Vector Machine']"
      ],
      "metadata": {
        "id": "YZ4qaFxKBnIg"
      },
      "execution_count": 8,
      "outputs": []
    },
    {
      "cell_type": "code",
      "source": [
        "plt.figure(figsize=(7, 7))\n",
        "plt.grid(which='major', linestyle='-.', linewidth='0.5', color='green', axis='y')\n",
        "plt.ylabel('Accuracy')\n",
        "plt.title('Accuracy of Classifiers')\n",
        "plt.bar(ML_model, acc)"
      ],
      "metadata": {
        "colab": {
          "base_uri": "https://localhost:8080/",
          "height": 461
        },
        "id": "CS9BvoH_CtsG",
        "outputId": "168a9328-df5f-4337-91fe-d46f76ddba4e"
      },
      "execution_count": 9,
      "outputs": [
        {
          "output_type": "execute_result",
          "data": {
            "text/plain": [
              "<BarContainer object of 3 artists>"
            ]
          },
          "metadata": {},
          "execution_count": 9
        },
        {
          "output_type": "display_data",
          "data": {
            "text/plain": [
              "<Figure size 504x504 with 1 Axes>"
            ],
            "image/png": "[encoded data removed]"
          },
          "metadata": {
            "needs_background": "light"
          }
        }
      ]
    },
    {
      "cell_type": "code",
      "source": [
        "plt.figure(figsize=(7, 7))\n",
        "plt.grid(which='major', linestyle='-.', linewidth='0.5', color='green', axis='y')\n",
        "plt.ylabel('Sensitivity')\n",
        "plt.title('Sensitivity of Classifiers')\n",
        "plt.bar(ML_model, senty)"
      ],
      "metadata": {
        "colab": {
          "base_uri": "https://localhost:8080/",
          "height": 461
        },
        "id": "X7cpq0GeFpc3",
        "outputId": "a0986777-3aa6-4ea6-c6d3-ec454521de67"
      },
      "execution_count": 10,
      "outputs": [
        {
          "output_type": "execute_result",
          "data": {
            "text/plain": [
              "<BarContainer object of 3 artists>"
            ]
          },
          "metadata": {},
          "execution_count": 10
        },
        {
          "output_type": "display_data",
          "data": {
            "text/plain": [
              "<Figure size 504x504 with 1 Axes>"
            ],
            "image/png": "[encoded data removed]"
          },
          "metadata": {
            "needs_background": "light"
          }
        }
      ]
    },
    {
      "cell_type": "code",
      "source": [
        "plt.figure(figsize=(7, 7))\n",
        "plt.grid(which='major', linestyle='-.', linewidth='0.5', color='green', axis='y')\n",
        "plt.ylabel('False Positive Rate')\n",
        "plt.title('False Positive Rate of Classifiers')\n",
        "plt.bar(ML_model, fpr)"
      ],
      "metadata": {
        "colab": {
          "base_uri": "https://localhost:8080/",
          "height": 461
        },
        "id": "o5pE0IipGx8i",
        "outputId": "0352dc57-5452-45ed-c333-2267eeee30b9"
      },
      "execution_count": 11,
      "outputs": [
        {
          "output_type": "execute_result",
          "data": {
            "text/plain": [
              "<BarContainer object of 3 artists>"
            ]
          },
          "metadata": {},
          "execution_count": 11
        },
        {
          "output_type": "display_data",
          "data": {
            "text/plain": [
              "<Figure size 504x504 with 1 Axes>"
            ],
            "image/png": "[encoded data removed]"
          },
          "metadata": {
            "needs_background": "light"
          }
        }
      ]
    },
    {
      "cell_type": "code",
      "source": [
        "plt.figure(figsize=(7, 7))\n",
        "plt.grid(which='major', linestyle='-.', linewidth='0.5', color='green', axis='y')\n",
        "plt.ylabel('False Negative Rate')\n",
        "plt.title('False Negative Rate of Classifiers')\n",
        "plt.bar(ML_model, fnr)"
      ],
      "metadata": {
        "colab": {
          "base_uri": "https://localhost:8080/",
          "height": 461
        },
        "id": "uNtwuCz9HFSJ",
        "outputId": "96cb8373-ac97-47bf-bcb6-2fb24b43db6a"
      },
      "execution_count": 12,
      "outputs": [
        {
          "output_type": "execute_result",
          "data": {
            "text/plain": [
              "<BarContainer object of 3 artists>"
            ]
          },
          "metadata": {},
          "execution_count": 12
        },
        {
          "output_type": "display_data",
          "data": {
            "text/plain": [
              "<Figure size 504x504 with 1 Axes>"
            ],
            "image/png": "[encoded data removed]"
          },
          "metadata": {
            "needs_background": "light"
          }
        }
      ]
    },
    {
      "cell_type": "code",
      "source": [
        ""
      ],
      "metadata": {
        "id": "Fg_N0A1AHH_a"
      },
      "execution_count": 12,
      "outputs": []
    }
  ]
}